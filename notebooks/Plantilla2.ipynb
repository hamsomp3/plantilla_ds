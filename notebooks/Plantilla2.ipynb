{
  "cells": [
    {
      "cell_type": "markdown",
      "metadata": {
        "id": "YCeG06Xvxe4e"
      },
      "source": [
        "# Conjunto de Datos de Telco Customer Churn\n",
        "\n",
        "Este conjunto de datos, proporcionado en los [IBM Sample Data Sets], está enfocado en el análisis del comportamiento de los clientes para desarrollar programas de retención enfocados. El propósito principal de este dataset es **predecir el comportamiento de los clientes** para retenerlos. Permite el análisis exhaustivo de datos relevantes del cliente y ayuda en la creación de programas de retención de clientes específicos.\n",
        "\n",
        "## Contenido del Dataset\n",
        "\n",
        "- **Churn**: Indica si el cliente abandonó la compañía en el último mes.\n",
        "- **Servicios**: Detalla los servicios que cada cliente ha contratado, incluyendo:\n",
        "  - Telefonía\n",
        "  - Líneas múltiples\n",
        "  - Internet\n",
        "  - Seguridad en línea\n",
        "  - Backup en línea\n",
        "  - Protección de dispositivos\n",
        "  - Soporte técnico\n",
        "  - Streaming de TV y películas\n",
        "- **Información de la cuenta del cliente**: Abarca la duración como cliente, tipo de contrato, método de pago, facturación sin papel, cargos mensuales y cargos totales.\n",
        "- **Información demográfica**: Incluye género, rango de edad, y si tienen pareja y dependientes.\n",
        "\n",
        "Para acceder a la versión más reciente del conjunto de datos proporcionada por IBM, visite el siguiente enlace: [IBM Community](https://community.ibm.com/community/user/businessanalytics/blogs/steven-macko/2019/07/11/telco-customer-churn-1113).\n",
        "\n",
        "\n"
      ]
    },
    {
      "cell_type": "markdown",
      "metadata": {
        "id": "59i5fF51xe4o"
      },
      "source": [
        "# Rubrica de evaluación"
      ]
    },
    {
      "cell_type": "markdown",
      "metadata": {
        "id": "DbnHhT3Uxe4p"
      },
      "source": [
        "| Criterios                                                                                                               | Si | No | Observaciones |\n",
        "|------------------------------------------------------------------------------------------------------------------------|----|----|---------------|\n",
        "| El documento reporta la selección de las dos hipótesis más adecuadas                                                    | -   | -   |  -             |\n",
        "| El documento reporta argumentos a favor de la selección de cada hipótesis elegida                                       | -   | -   |  -             |\n",
        "| El documento reporta argumentos en contra de las hipótesis no seleccionadas                                             | -   | -   |    -           |\n",
        "| El documento reporta la realización de la etapa de entendimiento de los datos para identificar si los supuestos hechos en la hipótesis sobre ellos son reales. |  -  |  -  |     -          |\n",
        "| El documento enuncia los parámetros e hiperparámetros que deben ser estimados para el buen funcionamiento de cada técnica elegida. |  -  |  -  |     -          |\n",
        "| El documento establece claramente cuál es la entrada y la salida de cada modelo y analiza si es necesario realizar ajustes en la representación de los datos para que la técnica esté en capacidad de recibir esa entrada y producir esa salida. | -   |  -  |         -      |\n"
      ]
    },
    {
      "cell_type": "markdown",
      "metadata": {
        "id": "Q4pr7XEnxe4q"
      },
      "source": [
        "# Libraries\n",
        "\n",
        "A continuación, se listan las librerías y clases que se utilizarán para el desarrollo del ejercicio propuesto en el presente documento:"
      ]
    },
    {
      "cell_type": "code",
      "execution_count": 3,
      "metadata": {
        "id": "JBd7lBiaxe4r"
      },
      "outputs": [],
      "source": [
        "import os\n",
        "import time\n",
        "import itertools\n",
        "import numpy as np\n",
        "import pandas as pd\n",
        "from tqdm import tqdm\n",
        "import seaborn as sns\n",
        "from sklearn.svm import SVC\n",
        "from scipy import stats\n",
        "import plotly.express as px\n",
        "from sklearn.utils import resample\n",
        "import matplotlib.pyplot as plt\n",
        "from matplotlib.patheffects import withStroke\n",
        "from sklearn.ensemble import RandomForestClassifier\n",
        "from sklearn.linear_model import LogisticRegression\n",
        "from sklearn.model_selection import train_test_split\n",
        "from sklearn.preprocessing import LabelEncoder as LE\n",
        "from sklearn.preprocessing import StandardScaler\n",
        "from yellowbrick.classifier import ClassificationReport\n",
        "from yellowbrick.classifier import ConfusionMatrix\n",
        "from yellowbrick.classifier import ROCAUC\n",
        "from sklearn.metrics import classification_report\n",
        "from sklearn.model_selection import GridSearchCV # Grid search cross validation\n",
        "from sklearn.model_selection import RandomizedSearchCV # Random search cross validation"
      ]
    },
    {
      "cell_type": "markdown",
      "metadata": {
        "id": "6b4uW1aLxe4n"
      },
      "source": [
        "\n",
        "\n",
        "## Etapa 1: Entedimientos de los datos\n",
        "\n",
        "Los datos a desarrollar en el ejercicio propuesto se encuentran en el siguiente enlace: https://www.kaggle.com/datasets/blastchar/telco-customer-churn. Tambien se encuentran disponibles en un repositorio de Github, para lo cual se escribe el siguiente script para agilizar la conexión a la fuente de datos y la carga respectiva en este documento de Colab:\n",
        "\n"
      ]
    },
    {
      "cell_type": "markdown",
      "metadata": {
        "id": "Ni6waQGRCRVP"
      },
      "source": [
        "Se hace la carga de datos y se verifica que los datos se hayan cargado correctamente. En efecto, se puede notar la variable objetivo del ejercicio **Churn** en la ultima columna del dataset, acompañada de un total de 20 atributos. Se aprecia tambien que se compone de un total de 7042 observaciones:"
      ]
    },
    {
      "cell_type": "code",
      "execution_count": 14,
      "metadata": {},
      "outputs": [],
      "source": [
        "current_dir = os.getcwd()\n",
        "data_dir = os.path.join(os.path.dirname(os.getcwd()), 'data')"
      ]
    },
    {
      "cell_type": "code",
      "execution_count": 16,
      "metadata": {
        "colab": {
          "base_uri": "https://localhost:8080/",
          "height": 342
        },
        "id": "eY0phNz_xe4v",
        "outputId": "b7d62d7f-664f-49b6-fb1e-39aa703b7a01"
      },
      "outputs": [
        {
          "data": {
            "text/html": [
              "<div>\n",
              "<style scoped>\n",
              "    .dataframe tbody tr th:only-of-type {\n",
              "        vertical-align: middle;\n",
              "    }\n",
              "\n",
              "    .dataframe tbody tr th {\n",
              "        vertical-align: top;\n",
              "    }\n",
              "\n",
              "    .dataframe thead th {\n",
              "        text-align: right;\n",
              "    }\n",
              "</style>\n",
              "<table border=\"1\" class=\"dataframe\">\n",
              "  <thead>\n",
              "    <tr style=\"text-align: right;\">\n",
              "      <th></th>\n",
              "      <th>customerID</th>\n",
              "      <th>gender</th>\n",
              "      <th>SeniorCitizen</th>\n",
              "      <th>Partner</th>\n",
              "      <th>Dependents</th>\n",
              "      <th>tenure</th>\n",
              "      <th>PhoneService</th>\n",
              "      <th>MultipleLines</th>\n",
              "      <th>InternetService</th>\n",
              "      <th>OnlineSecurity</th>\n",
              "      <th>...</th>\n",
              "      <th>DeviceProtection</th>\n",
              "      <th>TechSupport</th>\n",
              "      <th>StreamingTV</th>\n",
              "      <th>StreamingMovies</th>\n",
              "      <th>Contract</th>\n",
              "      <th>PaperlessBilling</th>\n",
              "      <th>PaymentMethod</th>\n",
              "      <th>MonthlyCharges</th>\n",
              "      <th>TotalCharges</th>\n",
              "      <th>Churn</th>\n",
              "    </tr>\n",
              "  </thead>\n",
              "  <tbody>\n",
              "    <tr>\n",
              "      <th>0</th>\n",
              "      <td>7590-VHVEG</td>\n",
              "      <td>Female</td>\n",
              "      <td>0</td>\n",
              "      <td>Yes</td>\n",
              "      <td>No</td>\n",
              "      <td>1</td>\n",
              "      <td>No</td>\n",
              "      <td>No phone service</td>\n",
              "      <td>DSL</td>\n",
              "      <td>No</td>\n",
              "      <td>...</td>\n",
              "      <td>No</td>\n",
              "      <td>No</td>\n",
              "      <td>No</td>\n",
              "      <td>No</td>\n",
              "      <td>Month-to-month</td>\n",
              "      <td>Yes</td>\n",
              "      <td>Electronic check</td>\n",
              "      <td>29.85</td>\n",
              "      <td>29.85</td>\n",
              "      <td>No</td>\n",
              "    </tr>\n",
              "    <tr>\n",
              "      <th>1</th>\n",
              "      <td>5575-GNVDE</td>\n",
              "      <td>Male</td>\n",
              "      <td>0</td>\n",
              "      <td>No</td>\n",
              "      <td>No</td>\n",
              "      <td>34</td>\n",
              "      <td>Yes</td>\n",
              "      <td>No</td>\n",
              "      <td>DSL</td>\n",
              "      <td>Yes</td>\n",
              "      <td>...</td>\n",
              "      <td>Yes</td>\n",
              "      <td>No</td>\n",
              "      <td>No</td>\n",
              "      <td>No</td>\n",
              "      <td>One year</td>\n",
              "      <td>No</td>\n",
              "      <td>Mailed check</td>\n",
              "      <td>56.95</td>\n",
              "      <td>1889.50</td>\n",
              "      <td>No</td>\n",
              "    </tr>\n",
              "    <tr>\n",
              "      <th>2</th>\n",
              "      <td>3668-QPYBK</td>\n",
              "      <td>Male</td>\n",
              "      <td>0</td>\n",
              "      <td>No</td>\n",
              "      <td>No</td>\n",
              "      <td>2</td>\n",
              "      <td>Yes</td>\n",
              "      <td>No</td>\n",
              "      <td>DSL</td>\n",
              "      <td>Yes</td>\n",
              "      <td>...</td>\n",
              "      <td>No</td>\n",
              "      <td>No</td>\n",
              "      <td>No</td>\n",
              "      <td>No</td>\n",
              "      <td>Month-to-month</td>\n",
              "      <td>Yes</td>\n",
              "      <td>Mailed check</td>\n",
              "      <td>53.85</td>\n",
              "      <td>108.15</td>\n",
              "      <td>Yes</td>\n",
              "    </tr>\n",
              "    <tr>\n",
              "      <th>3</th>\n",
              "      <td>7795-CFOCW</td>\n",
              "      <td>Male</td>\n",
              "      <td>0</td>\n",
              "      <td>No</td>\n",
              "      <td>No</td>\n",
              "      <td>45</td>\n",
              "      <td>No</td>\n",
              "      <td>No phone service</td>\n",
              "      <td>DSL</td>\n",
              "      <td>Yes</td>\n",
              "      <td>...</td>\n",
              "      <td>Yes</td>\n",
              "      <td>Yes</td>\n",
              "      <td>No</td>\n",
              "      <td>No</td>\n",
              "      <td>One year</td>\n",
              "      <td>No</td>\n",
              "      <td>Bank transfer (automatic)</td>\n",
              "      <td>42.30</td>\n",
              "      <td>1840.75</td>\n",
              "      <td>No</td>\n",
              "    </tr>\n",
              "    <tr>\n",
              "      <th>4</th>\n",
              "      <td>9237-HQITU</td>\n",
              "      <td>Female</td>\n",
              "      <td>0</td>\n",
              "      <td>No</td>\n",
              "      <td>No</td>\n",
              "      <td>2</td>\n",
              "      <td>Yes</td>\n",
              "      <td>No</td>\n",
              "      <td>Fiber optic</td>\n",
              "      <td>No</td>\n",
              "      <td>...</td>\n",
              "      <td>No</td>\n",
              "      <td>No</td>\n",
              "      <td>No</td>\n",
              "      <td>No</td>\n",
              "      <td>Month-to-month</td>\n",
              "      <td>Yes</td>\n",
              "      <td>Electronic check</td>\n",
              "      <td>70.70</td>\n",
              "      <td>151.65</td>\n",
              "      <td>Yes</td>\n",
              "    </tr>\n",
              "  </tbody>\n",
              "</table>\n",
              "<p>5 rows × 21 columns</p>\n",
              "</div>"
            ],
            "text/plain": [
              "   customerID  gender SeniorCitizen Partner Dependents  tenure PhoneService  \\\n",
              "0  7590-VHVEG  Female             0     Yes         No       1           No   \n",
              "1  5575-GNVDE    Male             0      No         No      34          Yes   \n",
              "2  3668-QPYBK    Male             0      No         No       2          Yes   \n",
              "3  7795-CFOCW    Male             0      No         No      45           No   \n",
              "4  9237-HQITU  Female             0      No         No       2          Yes   \n",
              "\n",
              "      MultipleLines InternetService OnlineSecurity  ... DeviceProtection  \\\n",
              "0  No phone service             DSL             No  ...               No   \n",
              "1                No             DSL            Yes  ...              Yes   \n",
              "2                No             DSL            Yes  ...               No   \n",
              "3  No phone service             DSL            Yes  ...              Yes   \n",
              "4                No     Fiber optic             No  ...               No   \n",
              "\n",
              "  TechSupport StreamingTV StreamingMovies        Contract PaperlessBilling  \\\n",
              "0          No          No              No  Month-to-month              Yes   \n",
              "1          No          No              No        One year               No   \n",
              "2          No          No              No  Month-to-month              Yes   \n",
              "3         Yes          No              No        One year               No   \n",
              "4          No          No              No  Month-to-month              Yes   \n",
              "\n",
              "               PaymentMethod MonthlyCharges  TotalCharges  Churn  \n",
              "0           Electronic check          29.85         29.85     No  \n",
              "1               Mailed check          56.95       1889.50     No  \n",
              "2               Mailed check          53.85        108.15    Yes  \n",
              "3  Bank transfer (automatic)          42.30       1840.75     No  \n",
              "4           Electronic check          70.70        151.65    Yes  \n",
              "\n",
              "[5 rows x 21 columns]"
            ]
          },
          "execution_count": 16,
          "metadata": {},
          "output_type": "execute_result"
        }
      ],
      "source": [
        "#df = pd.read_csv(\"/content/telco-customer-churn-on-icp4d/data/Telco-Customer-Churn.csv\")\n",
        "df = pd.read_csv(f\"{data_dir}/Telco-Customer-Churn.csv\")\n",
        "df['TotalCharges'] = pd.to_numeric(df['TotalCharges'], errors='coerce')\n",
        "df['SeniorCitizen'] = df['SeniorCitizen'].astype('object')\n",
        "df.head()"
      ]
    },
    {
      "cell_type": "markdown",
      "metadata": {
        "id": "2ZaRKXHUxe4y"
      },
      "source": [
        "## Tipo de variables:\n",
        "\n",
        "* customerID\n",
        "\n",
        "Es una variable de tipo ID compuesta por 4 caractéres numéricos y 4 alfabeticos separadas por \"-\".\n",
        "\n",
        "* gender:\n",
        "\n",
        "Variable categórica, de texto. Salidas: \"Male\" o \"Female\". Hace referencia al género del suscriptor o abonado. Se distribuye en 50% para \"Male\" y 50% para \"Female\".\n",
        "\n",
        "* SeniorCitizen:\n",
        "\n",
        "Hace referencia a si el suscriptor es un adulto mayor. Variable binaria, categórica nominal, salidas de 1 para sí es adulto mayor y 0 para lo contrario. Del total de 7042 registros, tiene 1142 en 1 y el resto en cero. Teóricamente se considera que los adultos mayores son más reacios a cambiar su proveedor de Telco.\n",
        "\n",
        "* Partner\n",
        "\n",
        "Hace referencia a si el suscriptor tiene o no pareja. Variable categórica nominal, con valores de salida de \"Yes\" para sí tiene pareja y \"No\" para no tiene pareja.\n",
        "\n",
        "* Dependents\n",
        "\n",
        "Hace referencia a si el suscriptor tiene o no personas a cargo. Variable categórica nominal, con valores de salida de \"Yes\" para sí tiene personas a cargo y \"No\" para no tiene personas a cargo. Si tienen dependientes\n",
        "\n",
        "* tenure\n",
        "\n",
        "Hace referencia al número de periodos en meses en que el suscriptor ha estado con la compañía de Telco. Es una variable tipo \"integer\" con valores que van desde cero hasta 72.\n",
        "\n",
        "* PhoneService\n",
        "\n",
        "Hace referencia a si el suscriptor tiene o no servicio de teléfono. Variable categórica nominal, con valores de salida de \"Yes\" para sí tiene servicio de teléfono y \"No\" para no tiene Servicio de teléfono.\n",
        "\n",
        "* MultipleLines\n",
        "\n",
        "Hace referencia a si el suscriptor tiene múltiples líneas telefónicas. Variable Categórica nominal con tres categorías: \"Yes\", para sí tiene múltiples líneas telefónicas, \"No\" para no tiene múltiples líneas telefónicas, y \"No phone service\" para el hecho que no tenga contratado el servicio de teléfono.\n",
        "\n",
        "* InternetService\n",
        "\n",
        "Hace referencia al tipo de servicio de internet que tiene el suscriptor. Variable categórica nominal con tres categorías de salida: \"DSL\", para suscriptores que tienen este tipo de tecnología en su conexión de internet, \"Fiber optic\" para suscriptores que tienen conexión por fibra óptica, y \"No\" para suscriptores o abonados que no tienen contratado el servicio de internet.\n",
        "\n",
        "* OnlineSecurity\n",
        "\n",
        "Hace referencia a si el suscriptor tiene o no servicio de seguridad en línea. Variable categórica nominal, con valores de salida de \"Yes\" para sí tiene servicio de seguridad en línea, \"No\" para no tiene servicio de seguridad en línea y \"No internet service\" para quienes no tienen el servicio de internet. (Asumimos que son valores agregados que brindan las compañías como filtros de spam, phishing, controles parentales, o cortafuegos)\n",
        "\n",
        "* OnlineBackup  \n",
        "\n",
        "Hace referencia a si el suscriptor tiene o no servicio de respaldo de información en línea. Variable categórica nominal, con valores de salida de \"Yes\" para sí tiene servicio de respaldo de información en línea, \"No\" para no tiene servicio de respaldo de información en línea y \"No internet service\" para quienes no tienen el servicio de internet.\n",
        "\n",
        "\n",
        "* DeviceProtection\n",
        "\n",
        "Hace referencia a si el suscriptor tiene o no servicio de protección de dispositivos. Variable categórica nominal, con valores de salida de \"Yes\" para sí tiene servicio de protección de dispositivos, \"No\" para no tiene servicio de protección de dispositivos y \"No internet service\" para quienes no tienen el servicio de internet.. (Asumimos que son valores agregados que brindan las compañías como seguros para los dispositivos como celulares, tablets o pcs que van a estar utilizando los servicios)\n",
        "\n",
        "\n",
        "* TechSupport\n",
        "\n",
        "Hace referencia a si el suscriptor tiene o no servicio de soporte técnico. Variable categórica nominal, con valores de salida de \"Yes\" para sí tiene servicio de soporte técnico, \"No\" para no tiene servicio de soporte técnico y \"No internet service\" para quienes no tienen el servicio de internet. (Asumimos que son valores agregados que brindan las compañías como seguros para los dispositivos como celulares, tablets o pcs que van a estar utilizando los servicios)\n",
        "\n",
        "* StreamingTV\n",
        "\n",
        "Hace referencia a si el suscriptor tiene o no servicio de \"Streaming TV\". Variable categórica nominal, con valores de salida de \"Yes\" para sí tiene servicio \"Streaming TV\", \"No\" para no tiene servicio de \"Streaming TV\" y \"No internet service\" para quienes no tienen el servicio de internet. (Hace referencia a tener acceso a canales de televisión que puedan ser visualizados por dispositivos compatibles conectados a internet)\n",
        "\n",
        "\n",
        "* StreamingMovies\n",
        "\n",
        "Hace referencia a si el suscriptor tiene o no servicio de plataformas de películas por streaming. Variable categórica nominal, con valores de salida de \"Yes\" para sí tiene servicio plataformas de películas por streaming, \"No\" para no tiene servicio de plataformas de películas por streaming y \"No internet service\" para quienes no tienen el servicio de internet. (Hace referencia a acceso de películas por streaming, como plataformas tipo Nextflix, Prime Video o Disney +)\n",
        "\n",
        "* Contract            \n",
        "\n",
        "Hace referncia al tipo de contrato que tiene el suscriptor con la empresa. Es una variable categórica nominal que tiene las siguientes salidas: \"Month-to-month\" para referirse a los clientes que no tienen una permanencia mínima. \"One year\", para clientes que tienen un contrato fijo por el término de un año y \"Two year\" para suscriptores cuya permanencia en el contrato es por dos años.  \n",
        "\n",
        "\n",
        "* PaperlessBilling\n",
        "\n",
        "Hace referencia a si el suscriptor tiene o no factura sin uso de papel (Enviada por correo electrónico), o mejor, que no tiene factura física. Variable categórica, con valores de salida de \"Yes\" para los suscriptores que no tienen factura física \"No\" para los clientes que tienen de factura física o convencional\n",
        "\n",
        "* PaymentMethod\n",
        "\n",
        "Hace referencia al método de pago que usa el suscriptor. Variable categórica nominal con las siguientes posibles salidas: Electronic check, Mailed check, Bank transfer (automatic), Credit card (automatic).\n",
        "\n",
        "\n",
        "* MonthlyCharges\n",
        "\n",
        "Hace referencia a los cargos que se facturan con una periodicidad mensual al suscriptor. Es una variable numérica contínua.\n",
        "\n",
        "\n",
        "* TotalCharges\n",
        "\n",
        "Hace referencia al total del cargos facturados al suscriptor. Es una variable numérica, con valores que van desde 18.8 hasta 8.68k. Los valores más altos hacen referencia a los suscriptores que más tiempo de permanencia llevan con la compañía.  \n",
        "\n",
        "\n",
        "* Churn\n",
        "\n",
        "Es nuestra variable respuesta, objeto del estudio. Salida de \"Yes\" o \"No\" para el suscriptor que se haya desvinculado de la empresa de telecomunicaciones y \"No\" los clientes que siguen con el servicio contratado."
      ]
    },
    {
      "cell_type": "code",
      "execution_count": null,
      "metadata": {
        "colab": {
          "base_uri": "https://localhost:8080/"
        },
        "id": "syOAZ97Oxe40",
        "outputId": "59978925-8146-4e60-bb22-44cb77c650e8"
      },
      "outputs": [],
      "source": [
        "df.dtypes"
      ]
    },
    {
      "cell_type": "code",
      "execution_count": null,
      "metadata": {
        "colab": {
          "base_uri": "https://localhost:8080/"
        },
        "id": "ieDrWaWYxe41",
        "outputId": "becbf5ff-5e9c-4432-a688-5faab1546912"
      },
      "outputs": [],
      "source": [
        "df.columns"
      ]
    },
    {
      "cell_type": "markdown",
      "metadata": {
        "id": "KrS9ua9TiWTo"
      },
      "source": [
        "Procedemos con el método info, con el objetivo de buscar valores nulos en alguna de las variables del dataset:"
      ]
    },
    {
      "cell_type": "code",
      "execution_count": null,
      "metadata": {
        "colab": {
          "base_uri": "https://localhost:8080/"
        },
        "id": "t_Fyo_5rxe42",
        "outputId": "c4ec4df2-72bb-4424-8884-19fca787fc80"
      },
      "outputs": [],
      "source": [
        "df.info()"
      ]
    },
    {
      "cell_type": "markdown",
      "metadata": {
        "id": "V4fMh4ZzigyS"
      },
      "source": [
        "Al respecto y teniendo en cuenta que el número de registros es de 7043, encontramos que una de las variables, \"TotalCharges\" tiene diferencias con el total de registros, dado que tiene 7032 \"non-null\". De acuerdo con esto recordamos las dimensiones del dataset:"
      ]
    },
    {
      "cell_type": "code",
      "execution_count": null,
      "metadata": {
        "colab": {
          "base_uri": "https://localhost:8080/"
        },
        "id": "CTybAoaKxe42",
        "outputId": "b7fe4bb4-1289-4b22-8ecd-71f28faacf81"
      },
      "outputs": [],
      "source": [
        "print(\"El número de registros es: \", df.shape[0])\n",
        "print(\"El número de atributos es: \", df.shape[1])"
      ]
    },
    {
      "cell_type": "markdown",
      "metadata": {
        "id": "X2gmAM05xe43"
      },
      "source": [
        "COn el método isnull detectamos que en efecto, la variable ´TotalCharges´ registra un total de 11 valores nulos:"
      ]
    },
    {
      "cell_type": "code",
      "execution_count": null,
      "metadata": {
        "colab": {
          "base_uri": "https://localhost:8080/"
        },
        "id": "w_YI9VnRxe44",
        "outputId": "fc4e8cb0-be67-4c4f-cdfb-5d9143929637"
      },
      "outputs": [],
      "source": [
        "df.isnull().sum()"
      ]
    },
    {
      "cell_type": "markdown",
      "metadata": {
        "id": "NrStA7-mjYAI"
      },
      "source": [
        "Para el efecto, se decide hacer una imputación con el valor de la media de la variable, para no perder estas observaciones. Tambien se pudo eliminar las 11 observaciones, dado que no son representativas en comparación con el total de observaciones, pero procedemos con la media de acuerdo con lo definido:"
      ]
    },
    {
      "cell_type": "code",
      "execution_count": null,
      "metadata": {
        "colab": {
          "base_uri": "https://localhost:8080/"
        },
        "id": "kdQ72REBxe44",
        "outputId": "d9412120-e023-426d-ee2f-a46b75d758dc"
      },
      "outputs": [],
      "source": [
        "df['TotalCharges'].fillna(df['TotalCharges'].mean(), inplace=True)\n",
        "df.isnull().sum()"
      ]
    },
    {
      "cell_type": "markdown",
      "metadata": {
        "id": "B3ns-49qjuzR"
      },
      "source": [
        "En efecto, con la verificación del método isnull, efectivamente damos cuenta que la imputación de los 11 valores de la variable en cuestión fue efectiva.\n",
        "\n",
        "## Variables Numéricas\n",
        "\n",
        "A continuación, procedemos analizando las variables numéricas que componen el dataset, con el método describe:\n"
      ]
    },
    {
      "cell_type": "code",
      "execution_count": null,
      "metadata": {
        "colab": {
          "base_uri": "https://localhost:8080/",
          "height": 300
        },
        "id": "ZoqO58pixe44",
        "outputId": "bf4c36ae-6919-43fb-ab42-06cc7cb44de1"
      },
      "outputs": [],
      "source": [
        "df.describe().round(3)"
      ]
    },
    {
      "cell_type": "markdown",
      "metadata": {
        "id": "kKf3oJYMkC40"
      },
      "source": [
        "Las variables son \"tenure\" que de acuerdo con la descripción inicial, hace referencia a la permanencia en meses que lleva el suscriptor observado. Como referfencia inicial, notamos que l amedia se enucetra alrededor de los 32 meses, pero la mediana está en los 29 meses. La distribución de esta variable, como veremos más adelante, nos presenta a cero (0) meses y a 72 meses como las salidas con mayor frecuencia, siendo cero la moda.\n",
        "\n",
        "Por otro lado, tenemos la variable \"MonthlyCharges\" que indica que los valores facturados mensualmente a los clientes van desde los 18.25 hasta los 118.75 dólares. Finalmente tenemos los cargos totales facturados a los clientes, que van desde los 18.8 hasta los 8684 USD, asociados a los clientes con mayor nivel de permanencia."
      ]
    },
    {
      "cell_type": "markdown",
      "metadata": {
        "id": "yYXfzUZWxe45"
      },
      "source": [
        "## Variables Categoricas\n",
        "\n",
        "A Continuación presentamos un análisis de distribución de las varaibles categóricas a partir de un análisis gráfico.\n",
        "\n",
        "El código propuesto es el siguiente:"
      ]
    },
    {
      "cell_type": "code",
      "execution_count": null,
      "metadata": {
        "colab": {
          "base_uri": "https://localhost:8080/"
        },
        "id": "c4Pgm2R0xe45",
        "outputId": "1210ad9f-082e-472c-fb99-3c1b1168be55"
      },
      "outputs": [],
      "source": [
        "categorical_features=df.select_dtypes(include=['object']).columns[1:]\n",
        "print(categorical_features)"
      ]
    },
    {
      "cell_type": "code",
      "execution_count": null,
      "metadata": {
        "colab": {
          "base_uri": "https://localhost:8080/",
          "height": 1000
        },
        "id": "p8VDD9g2xe46",
        "outputId": "ee66d7cb-0da0-4a17-d9a2-71f3bda2ec7b"
      },
      "outputs": [],
      "source": [
        "for variable in categorical_features[:-1]:\n",
        "    # Histogram\n",
        "    countplot_fig = px.histogram(df, x=df[variable].value_counts().index, y=df[variable].value_counts().values,title=f'Conteo para {variable}')\n",
        "    countplot_fig.update_traces(texttemplate='%{y}', textposition='outside')\n",
        "    countplot_fig.update_xaxes(categoryorder='total ascending')\n",
        "    # Pie chart\n",
        "    counts = df[variable].value_counts()\n",
        "    labels = counts.index\n",
        "    pie_chart_fig = px.pie(names=labels, values=counts, title=f'Gráfico de Torta para {variable}',\n",
        "                        labels={'names': '', 'values': ''},\n",
        "                        hole=0.3)\n",
        "\n",
        "    # Mostrar leyenda al pie chart usando las etiquetas del índice\n",
        "    pie_chart_fig.update_traces(textinfo='percent+label', pull=[0.05]*len(labels))\n",
        "\n",
        "    # Guardar y mostrar la figura\n",
        "\n",
        "    countplot_fig.write_html(f\"{variable}_countplot.html\")\n",
        "    pie_chart_fig.write_html(f\"{variable}_pie_chart.html\")\n",
        "    countplot_fig.show()\n",
        "    pie_chart_fig.show()"
      ]
    },
    {
      "cell_type": "markdown",
      "metadata": {
        "id": "EU8A42L8MCVX"
      },
      "source": [
        "\n",
        "## Análisis de variables descriptivas\n",
        "\n",
        "A Continuación, se efectúa el análisis para las variables categóricas que componen este set de datos, de acuerdo con el análisis gráfico presentado anteriormente.\n",
        "\n",
        "* gender\n",
        "\n",
        "Dentro de las 7043 observaciones se encuentra que están equidistribuidos. 3488 para \"Female\" y 3555 para \"Male\".\n",
        "\n",
        "* SeniorCitizen\n",
        "\n",
        "La proporción de adultos mayores dentro del dataset corresponde al 16.2% del total con un total de 1142 observaciones.\n",
        "\n",
        "* Partner\n",
        "\n",
        "Los datos para esta variable categórica están relativamente equidistribuidos, con una ligera proporción mas alta de suscriptores que no tienen pareja. 3641 de las observaciones revelan que no tienen pareja, para un 51.7% del total de las observaciones.\n",
        "\n",
        "* Dependents\n",
        "\n",
        "La proporción más alta es de suscriptores que no tienen dependientes. Son 4933 de las observaciones, que corresponde al 70% del total de observaciones. Se espera que este tipo de clientes sea más propenso a desvincularse de su proveedor de servicios de telco.\n",
        "\n",
        "* PhoneService\n",
        "\n",
        "La proporción más alta es para los suscriptores que sí poseen un tipo de servicio telefónico. Corresponde a 6361 de la totalidad de las observaciones, es decir un 90.3% del total de los datos.\n",
        "\n",
        "* MultipleLines\n",
        "\n",
        "En el caso de los clientes que tienen multiplelines, la porporción más alta es la de clientes que no tienen líneas múltiples. Son 3390 del total. La proporción de clientes que no tienen el servicio es coherente con la variable PhoneServices. Así las cosas, del total de clientes, el 48.1% tienen una sola linea, el 42.2% tienen multiples líneas y se mantiene el 9.68% de clientes que no tiene servicio telefónico.\n",
        "\n",
        "* InternetService\n",
        "\n",
        "La proporción más alta es la de clientes que tienen servicio de internet por fibra óptica. Son 3096 para un 44% del total de observaciones. La tecnología de conexión por DSL está presente en el 34.4% de los clientes, para un total de 2421 observaciones, mientras que los restantes 1526 no tienen servicio de internet. Esta proporción, que corresponde al 21.7% del total de clientes, la mantendremos en las siguientes variables.\n",
        "\n",
        "* OnlineSecurity\n",
        "\n",
        "La proporción más alta de este servicio es de los que no lo poseen, con un conteo total de 3498 clientes. corresponde al 49.7% de los suscriptores.\n",
        "\n",
        "* OnlineBackup\n",
        "\n",
        "La proporción más alta de este servicio es de los que no lo poseen. Son un total de 3088 del total de clientes, que corresponde al 43.8% del total de los suscriptores.\n",
        "\n",
        "* DeviceProtection\n",
        "\n",
        "La proporción más alta corresponde a los que no cuentan con este servicio. Es un total de 3085 clientes, para una proporción del 43.9% de los clientes.\n",
        "\n",
        "* TechSupport\n",
        "\n",
        "La proporción más alta es para los clientes que no cuentan con el servicio de soporte técnico. Corresponde al 49.3% del total de los clientes.\n",
        "\n",
        "* StreamingTV\n",
        "\n",
        "La proporción más alta es para los suscriptores que NO poseen el servicio de televisión por Streaming. Correspodne a un total de 2810 clientes, es decir una proporción del 39.9%. No obstante está bien distribuida para los clientes que sí tienen el servicio, con una proporción de 38.4% del total de observaciones y un conteo de 2707 clientes. Los restantes 1526 que son el 21.7% son los que ya se conocen que no tienen servicio de internet.\n",
        "\n",
        "\n",
        "* StreamingMovies\n",
        "\n",
        "En el caso de Streaming Movies, la distribución es muy parecida a la de StreamingTV que se acaba de describir. Los suscriptores que no tienen el servicio son 2785, el 39.5% de todos los clientes, mientras que los que sí lo tienesn son el 38.8%, es decir, 2732 del total de clientes. Los restantes son, al igual que el caso anterior, los que no tienen contratado ningún servicio de internet.\n",
        "\n",
        "* Contract\n",
        "\n",
        "La proporción más alta corresponde a los clientes que tienen contratos mes a mes, con un total de 55% de los clientes, es decir un total de 3875 observaciones. La segunda proporción son los clientes con contrato a término de dos años, los cuales deben tener ventajas sustanciales a menores precios, dada la permanencia mínima. Son el 24.1% del total de los clientes, es decir 1695 observaciones. Los retantes 1473 tienen contrato a un año.\n",
        "\n",
        "* PaperlessBilling\n",
        "\n",
        "La proporción más alta es para los clientes que optaron por la opción de no tener factura física. Corresponde al 59.6% de los clientes, es decir 4171 observaciones totales. Los demás suscriptores reciben su factura en físico (Papel impreso)\n",
        "\n",
        "* PaymentMethod\n",
        "\n",
        "En el caso del médio de pago, la proporción mas alta corresponde a \"Cheque electrónico\", con el 33.6% del total de observaciones. Los demás medios de pago, como \"Cheque por correo\", \"Transferencia bancaria\" y \"Tarjeta de Crédito\" tienen proporciones similares (22.9%, 21.9%, y 21.6% respectivamente).\n"
      ]
    },
    {
      "cell_type": "markdown",
      "metadata": {
        "id": "CD64hb8kxe48"
      },
      "source": [
        "## Variables Numericas\n",
        "\n",
        "A continuación, presentamos un análisis descriptivo de las variables numéricas presentes en el Dataset:"
      ]
    },
    {
      "cell_type": "code",
      "execution_count": null,
      "metadata": {
        "colab": {
          "base_uri": "https://localhost:8080/"
        },
        "id": "zPFkSYrixe48",
        "outputId": "5aae6ab7-bec0-489e-b53a-fb39a9a3d75d"
      },
      "outputs": [],
      "source": [
        "numerical_features = df.select_dtypes(include=['number']).columns\n",
        "print(numerical_features)"
      ]
    },
    {
      "cell_type": "markdown",
      "metadata": {
        "id": "JFKlapUixe48"
      },
      "source": [
        "## Correlaciones entre variables numericas - Pearson, Spearman, Kendall\n",
        "\n",
        "Las variables numéricas del dataset de referencia son las variables \"Tenure\", que refiere al número de meses de permanencia que llevan los suscriptores con las empresas, los cargos mensuales y la totalidad de ingresos facturados al cliente."
      ]
    },
    {
      "cell_type": "code",
      "execution_count": null,
      "metadata": {
        "id": "t5tc8Ay7xe49"
      },
      "outputs": [],
      "source": [
        "def stars(p):\n",
        "    \"\"\"\n",
        "    Returns a string of asterisks (*) based on the significance level (alpha value) of a statistical test.\n",
        "\n",
        "    Args:\n",
        "        p (float): the p-value of the statistical test\n",
        "\n",
        "    Returns:\n",
        "        A string of asterisks indicating the significance level, as follows:\n",
        "        - five asterisks (*****): alpha value is 0.0001 or 0.01% with 99.99% confidence\n",
        "        - four asterisks (****): alpha value is 0.001 or 0.1% with 99.9% confidence\n",
        "        - three asterisks (***): alpha value is 0.01 or 1% with 99% confidence\n",
        "        - two asterisks (**): alpha value is 0.05 or 5% with 95% confidence\n",
        "        - one asterisk (*): alpha value is 0.1 or 10% with 90% confidence\n",
        "        - empty string (''): alpha value is greater than or equal to 0.1\n",
        "    \"\"\"\n",
        "    if p < 0.0001:\n",
        "        return '*****'\n",
        "    elif p < 0.001:\n",
        "        return '****'\n",
        "    elif p < 0.01:\n",
        "        return '***'\n",
        "    elif p < 0.05:\n",
        "        return '**'\n",
        "    elif p < 0.1:\n",
        "        return '*'\n",
        "    else:\n",
        "        return ''"
      ]
    },
    {
      "cell_type": "code",
      "execution_count": null,
      "metadata": {
        "id": "hYeE3VINxe49"
      },
      "outputs": [],
      "source": [
        "def plot_correlations(dataframe, corr_methods):\n",
        "    for method in corr_methods:\n",
        "        stroke = withStroke(linewidth=2, foreground='black')\n",
        "        corr_matrix = dataframe.corr(method=method)\n",
        "        pval_matrix = dataframe.corr(method=lambda x, y: stats.pearsonr(x, y)[1])\n",
        "\n",
        "        # Create a mask to show only the lower triangle of the matrix\n",
        "        mask = np.triu(np.ones_like(corr_matrix))\n",
        "        mask2 = np.tril(np.ones_like(corr_matrix))\n",
        "        stars_corr = pval_matrix * mask2 + mask\n",
        "        pval_stars = stars_corr.applymap(stars)\n",
        "        color_palette = sns.color_palette(\"Blues\")\n",
        "        with sns.axes_style(\"whitegrid\"):\n",
        "            f, ax = plt.subplots(figsize=(12, 10))\n",
        "            ax = sns.heatmap(corr_matrix.round(4),\n",
        "                            mask=mask,\n",
        "                            vmax=1,\n",
        "                            center=0,\n",
        "                            vmin=-1,\n",
        "                            square=True,\n",
        "                            cmap=sns.cubehelix_palette(8, start=.5, rot=-.75, as_cmap=True),\n",
        "                            linewidths=.5,\n",
        "                            annot=True,\n",
        "                            annot_kws={\"size\": 12},\n",
        "                            fmt='.2f')\n",
        "            ax.set_title(f'{method.capitalize()} Correlations Matrix', fontsize=20)\n",
        "            plt.xticks(fontsize=9)\n",
        "            plt.yticks(fontsize=9)\n",
        "\n",
        "            for i, j in itertools.product(range(corr_matrix.shape[0]), range(corr_matrix.shape[0])):\n",
        "                ax.text(j + 0.5, i + 0.8, pval_stars.iloc[i, j], ha='center', va='center', color='white', fontsize=18,path_effects=[stroke])\n",
        "\n",
        "            plt.savefig((f'correlation_vi_{method.capitalize()}_triangular_stage.png'), dpi=300, bbox_inches='tight')\n",
        "            plt.show()"
      ]
    },
    {
      "cell_type": "code",
      "execution_count": null,
      "metadata": {
        "colab": {
          "base_uri": "https://localhost:8080/",
          "height": 1000
        },
        "id": "ve0dDLe3xe49",
        "outputId": "9ee58238-3122-4ef3-9748-da06cc700469"
      },
      "outputs": [],
      "source": [
        "correlation_methods = ['pearson','spearman','kendall']\n",
        "plot_correlations(df[numerical_features],correlation_methods)"
      ]
    },
    {
      "cell_type": "markdown",
      "metadata": {
        "id": "Zpdzr-HJQnOh"
      },
      "source": [
        "En las tres métricas de correlación evaluadas, todos los coeficientes son significativos.\n",
        "\n",
        "Se encuentra una correlación fuerte entre la variable \"Tenure\" y \"MonthlyCharges\", lo cual tiene lógica dado que a mayor permanencia contratando los servicios de la empresa, mayor es la cantidad de dinero que el suscriptor ha pagado durante la vigencia de la relación contractual.\n"
      ]
    },
    {
      "cell_type": "code",
      "execution_count": null,
      "metadata": {
        "colab": {
          "base_uri": "https://localhost:8080/",
          "height": 1000
        },
        "id": "AoVHal3-xe4-",
        "outputId": "451137a4-4ee3-4623-81c0-059752cc6d0f"
      },
      "outputs": [],
      "source": [
        "for column in numerical_features:\n",
        "    plt.figure(figsize=(20, 16))  # Crear una nueva figura para cada plot\n",
        "    sns.boxplot(data=df[[column]])  # Realizar un boxplot para la columna actual\n",
        "    plt.title(f'Boxplot de {column}', fontsize=20)  # Personalizar el título con el nombre de la columna\n",
        "    plt.xlabel('Variables', fontsize=16)\n",
        "    plt.ylabel('Valores', fontsize=16)\n",
        "    plt.xticks(rotation=90)  # Es posible que no necesite esta línea, ya que hay solo una variable\n",
        "    plt.show()  # Mostrar el plot"
      ]
    },
    {
      "cell_type": "code",
      "execution_count": null,
      "metadata": {
        "colab": {
          "base_uri": "https://localhost:8080/",
          "height": 1000
        },
        "id": "-9R7tGt5xe4-",
        "outputId": "2c8ed66f-5db0-4594-c55c-7566e1f14cd0"
      },
      "outputs": [],
      "source": [
        "for col in numerical_features:\n",
        "    plt.figure(figsize=(10, 5))\n",
        "    plt.title(f'Distribucion de {col}')\n",
        "    sns.histplot(df[col], bins=30, kde=True, stat='density')\n",
        "    sns.kdeplot(df[col], color='red')\n",
        "    plt.xlabel(col)\n",
        "    plt.ylabel('Density')\n",
        "    plt.savefig(f'density_{col}_plot.png')\n",
        "    plt.show()"
      ]
    },
    {
      "cell_type": "markdown",
      "metadata": {
        "id": "dF9pv6_Uil8Q"
      },
      "source": [
        "La distribución observada de las variables numéricas tienen las siguientes consideraciones:\n",
        "\n",
        "En el caso de Tenure, la permanencia con el proveedor de Telco, Tiene una distribución donde las clases modales son la de valor \"0\" y de valor \"72\". Son los valores extremos (Mínimo y máximo respectivamente). Esta distribución representa algunos retos, porque el valor de cero meses, altamente representativo, puede sesgar la predicción de la variable objetivo a los \"No Churn\". Esto porque no se espera que un cliente desista de una suscripción en el mes cero de vinculación.\n",
        "\n",
        "Por otro lado, la cantidad de valores en 72, hace pensar que la categoría es de 72 meses (6 años) o más, lo que puede impactar tambien el poder predictivo del modelo que se quiera utilizar.\n",
        "\n",
        "En el caso de los cargos mensuales, la mayoría se encuentra en el valor mínimo, lo que hace pensar que los clientes se decantan por una solución \"ligera\" del portafolio de servicios ofrecidos por una Telco. Tambien puede representar problemas al momento de darle poder predictivo al modelo.\n",
        "\n",
        "Finalmente, la distribución de la variable TotalCharges tiene una distribución donde la mayoría de los valores se situan en la intervalo inferior. Esto está marcado porque una proporción alta de clientes paga el fee más bajo y tambien tienen poca permanencia.\n",
        "\n",
        "De hecho, existe una relación funcional entre estas tres variables que puede impactar el poder predictivo del modelo, y es que la variable \"TotalCharges\" puede ser una función de \"Tenure\" que son meses de permanencia y \"MonthlyCharges\", cargos de facturación mensual."
      ]
    },
    {
      "cell_type": "markdown",
      "metadata": {
        "id": "r_Oql9qIxe4_"
      },
      "source": [
        "## Analisis Bi-Variado\n",
        "\n",
        "### Variables numéricas Vs Churn\n",
        "\n",
        "Para el ánalisis bivariado, optamos por ver la distribución de las variables numéricas con los rótulos de la variable de respuesta \"Churn\".\n",
        "\n",
        "Los resultados son las siguientes:"
      ]
    },
    {
      "cell_type": "code",
      "execution_count": null,
      "metadata": {
        "colab": {
          "base_uri": "https://localhost:8080/",
          "height": 1000
        },
        "id": "me5kN9Ojxe4_",
        "outputId": "6a9f32b1-c306-463f-c444-9b136cd51709"
      },
      "outputs": [],
      "source": [
        "def bivariate_analysis_numerical(df, var_target, var_numerical):\n",
        "    for col in var_numerical:\n",
        "        sns.boxplot(x=var_target,y=col,data=df)\n",
        "        plt.show()\n",
        "\n",
        "bivariate_analysis_numerical(df,'Churn',numerical_features)"
      ]
    },
    {
      "cell_type": "markdown",
      "metadata": {
        "id": "uzijYWU8hplQ"
      },
      "source": [
        "La distribución de estos datos indican lo siguiente:\n",
        "\n",
        "* Tenure: Los clientes que se desvincularon, tienen un promedio de permanencia menor. Es posible que los clientes que llevan más tiempo vinculados a la empresa tienen menor probabilidad de desistir de su suscripción.\n",
        "\n",
        "* MonthlyCharges: Los clientes que se desvincularon estaban pagando un fee mayor por la suscripción.\n",
        "\n",
        "* TotalCharges: Los clientes que se desvincularon tienen un valor más bajo de pagos totales. Esto viene relacionado tambien con el hecho de que en general los clientes que se desvincularon tuvieron menores tiempos de permanencia (Tenure)\n",
        "\n",
        "Adicionalmente, se presentan histogramas con el método \"stack\" con el objetivo de verificar la distribución exacta de la variable de salida con las diferentes clases:"
      ]
    },
    {
      "cell_type": "code",
      "execution_count": null,
      "metadata": {
        "colab": {
          "base_uri": "https://localhost:8080/",
          "height": 552
        },
        "id": "d3jO3T3exe4_",
        "outputId": "53c5ca3f-1e03-46b6-eb7f-f1bd29ed1a8a"
      },
      "outputs": [],
      "source": [
        "fig, axes = plt.subplots(nrows=1, ncols=3, figsize=(22, 6), squeeze=False, gridspec_kw={'hspace': 0.5, 'wspace': 0.5})\n",
        "\n",
        "for i, feature in enumerate(numerical_features):\n",
        "    row = i // 3  # Calcular el índice de la fila\n",
        "    col = i % 3   # Calcular el índice de la columna\n",
        "    sns.histplot(x=df[feature], hue=df['Churn'], multiple=\"stack\", palette=\"Set1\", ax=axes[row, col])\n",
        "    axes[row, col].set_title(feature)  # Añadir títulos a las subtramas\n",
        "    plt.savefig(\"complete_histogram.png\")\n",
        "\n",
        "plt.show()"
      ]
    },
    {
      "cell_type": "markdown",
      "metadata": {
        "id": "yi482KrDhwqo"
      },
      "source": [
        "En el caso de la variable \"Tenure\" se nota cómo la proporción de \"Churn\" en Si, es decir, la proporción de clientes que desistieron de su suscripción con la empresa se reduce a medida que aumenta el valor de la variable. De hecho, la menor proporción se observaen el rango mas alto (72 meses).\n",
        "\n",
        "En el caso de la variable MonthlyCharges se pueden notar que en los rangos de montos bajos de facturación, los clientes que desisten de sus suscripciones son más altos en los rangos de cargos mensuales por encima de 70 USD al mes. No obstante, esa proporción baja para los rangos de tarifas mensuales más altos (Probablemente, por contar con un portafolio más complejo y con servicios variados de valor agregado). Esta conducta es interesante porque se puede establecer que los clientes con cargos mensuales entre los 70 y los 100 dólares, tienen mayor probabilidad de cancelar sus suscripciones y pueden convertirse en un mercado objetivo.\n",
        "\n",
        "Finalmente, para el caso del total facturado al cliente, la proporción más alta de clientes que abandonan sus suscripciones, se encuentra en el rango de menores conceptos facturados. Esta conducta la justifica la variable \"Tenure\", dado que se detecta que el efecto de mayor deserción se da en el mes cero. Por lo tanto se compondrá de clientes a los cuales menores valores faturaoss se han generado.\n",
        "\n",
        "### Variables Categóricas Vs Churn\n",
        "\n",
        "Para todos los efectos del análisis de datos se continúa con el análisis bivariado entre las variables predictoras categóricas y la variable de respuesta Churn. Para tal efecto se presenta el sigueinte código:"
      ]
    },
    {
      "cell_type": "code",
      "execution_count": null,
      "metadata": {
        "colab": {
          "base_uri": "https://localhost:8080/",
          "height": 1000
        },
        "id": "dRpOtv6jxe47",
        "outputId": "10e89556-d9ff-444d-adad-9bb2b822ced6"
      },
      "outputs": [],
      "source": [
        "fig, axes = plt.subplots(nrows=4, ncols=4, figsize=(22 , 22), squeeze = True, gridspec_kw=None)\n",
        "for i, feature in enumerate(categorical_features[:-1]):\n",
        "    fila = int(i / 4)\n",
        "    columna = i % 4\n",
        "    sns.histplot(x = df[feature], hue = df['Churn'], multiple = \"stack\", palette = \"Set1\", ax=axes[fila, columna])\n",
        "plt.savefig(\"bivariate_cat_histogram.png\")"
      ]
    },
    {
      "cell_type": "markdown",
      "metadata": {
        "id": "48OUmYFHiH5I"
      },
      "source": [
        "Al respecto, llegamos a las siguientes conclusiones:\n",
        "\n",
        "* En el caso de gender, no se notan diferencias entre la proporción de clientes que desistieron de sus suscripciones si son hombres o mujeres.\n",
        "\n",
        "* En el caso de SeniorCitizen, si se encuentran diferentesentre la proporción de clientes que desistieron de sus suscrpciones. De hecho, los adultos mayores desistieron a sus suscripciones a servicios de Telco que quienes no lo son. Se consideraba que podría ser lo contrario, dado que se consideraba que los adultos mayores son más estables en los servicios que contratan.\n",
        "\n",
        "* En el caso de los suscriptores que no tienen pareja, la proporción de suscriptores que desistieron de sus suscripiones fue más alto que quienes tienen pareja. Posiblemente tiene que ver con la mayor estabilidad que los clientes que tienen pareja tienen respecto a la contratación de este tipo de servicios.\n",
        "\n",
        "* En el caso de suscriptores con personas a cargo, la proporción de suscriptores que cancelaron sus suscripciones es más alta en el caso de no tener dependientes. Esta conducta puede deberse a la mayor estabilidad en las decisiones que toman los suscriptores que tienen personas a cargo y los vuelven menos propensos a abandonar su actual operador de servicios de Telco.\n",
        "\n",
        "* Para quienes cuentan con servicio de teléfono, hay una proporcion similar entre quieres desisten del servicio y quienes no lo hacen. No obsatnte, en el caso de quienes tienen multiples líneas, la proporción de desistimiento es mas alta, probablemente porque son clientes que contratan servicios más especializados y pagan más por sus productos. Están en un segmento donde hay más ofertas por parte de las diferentes compañías de telco.\n",
        "\n",
        "* Para el caso de las empresas que tienen servicio de internet, la proporción de clientes que desisten de su proveedor es mayor para el tipo de servicio de fibra óptica. No obstante en el caso de los servicios de valor agregado, como Seguridad Online, BackUp en línea, protección de dispositivos y soporte técnico, los clientes que no tienen contratados este tipo de servicios tienen mayor proporción en la cantidad de quienes desisten de los servicios de la empresa de Telco. Esto es importante dado que  ofrecer estos servicios de valor agregado a muy bajo precio, puede aumentar la contratación de estos servicios y reducir la rotación de los clientes.\n",
        "\n",
        "* En el caso de los servicios de streaming tanto para TV como para películas, no se encuentra una diferencia significativa en la proporción de los clientes que desisten de sus suscripciones de quienes tienes estos servicios respecto a quienes lo nos tienen.\n",
        "\n",
        "* En el caso de los contratos mes a mes, la proporción de clientes que desisten es más alta en comparación con las suscripciones anuales y a dos años. Esto tambien marca dado que marca un interés por parte de las empresas de Telco por mantener suscriptores a uno o dos años.\n",
        "\n",
        "* Los clientes que no reciben facturas físicas tienen mayor proporción en el grupo de los clientes que desisten respecto a los que no tienen este mecanismo de facturación. Finalmente es más alta la proporción de clientes que desisten de sus suscripciones para el medio de pago \"Cheque Electrónico\" respecto a los demás medios de pago."
      ]
    },
    {
      "cell_type": "markdown",
      "metadata": {
        "id": "EH_9LS0txe5A"
      },
      "source": [
        "## Variable objetivo - Churn\n",
        "\n",
        "En el caso de la variable objetivo, de los 7043 observaciones, se encuentra que 1869 de las observaciones fueron de clientes que desistieron de sus suscripciones."
      ]
    },
    {
      "cell_type": "code",
      "execution_count": null,
      "metadata": {
        "colab": {
          "base_uri": "https://localhost:8080/"
        },
        "id": "88DGxYgGxe5A",
        "outputId": "12fda494-c675-40f8-8392-a2b57698d3b9"
      },
      "outputs": [],
      "source": [
        "# análisis de variable objetivo\n",
        "df['Churn'].value_counts()"
      ]
    },
    {
      "cell_type": "code",
      "execution_count": null,
      "metadata": {
        "colab": {
          "base_uri": "https://localhost:8080/",
          "height": 629
        },
        "id": "yVuMCRNexe5A",
        "outputId": "ebc66620-7953-46ff-fb6c-f5bbd4399ff5"
      },
      "outputs": [],
      "source": [
        "balance_ratio = df['Churn'].value_counts(normalize=True)\n",
        "\n",
        "print(\"Grado de balanceo del atributo objetivo:\")\n",
        "print(balance_ratio)\n",
        "print(\"-----------------------------------------\")\n",
        "\n",
        "fig = px.pie(df, values=df['Churn'].value_counts().values, names=df['Churn'].value_counts().index)\n",
        "fig.update_traces(textinfo='percent+label', pull=[0.05, 0.05])  # Etiquetas y separación\n",
        "\n",
        "fig.update_layout(\n",
        "    title='Pie Chart - \"Churn\"',\n",
        ")\n",
        "\n",
        "fig.write_html(\"pie_chart.html\")\n",
        "\n",
        "fig.show()"
      ]
    },
    {
      "cell_type": "code",
      "execution_count": null,
      "metadata": {
        "colab": {
          "base_uri": "https://localhost:8080/",
          "height": 542
        },
        "id": "b8MRmyQExe5B",
        "outputId": "d16df9d9-5b81-47b4-e966-c2cc104a1f06"
      },
      "outputs": [],
      "source": [
        "fig = px.histogram(df, x=df['Churn'].value_counts().index, y=df['Churn'].value_counts().values,title='Balance entre las Clases del Atributo Objetivo \"Churn\"')\n",
        "fig.update_traces(texttemplate='%{y}', textposition='outside')\n",
        "fig.update_xaxes(categoryorder='total ascending')\n",
        "\n",
        "fig.update_layout(\n",
        "    xaxis_title='Clase',\n",
        "    yaxis_title='Cantidad',\n",
        "    showlegend=False\n",
        ")\n",
        "fig.show()"
      ]
    },
    {
      "cell_type": "markdown",
      "metadata": {
        "id": "brg-bpmtxe5A"
      },
      "source": [
        "\n",
        "\n",
        "# Etapa 2: Prepación de los datos"
      ]
    },
    {
      "cell_type": "markdown",
      "metadata": {
        "id": "p7pArGpMxe5B"
      },
      "source": [
        "## codificacion variables categoricas\n",
        "\n",
        "Para poder utilizar los modelos de predicción, procedemos a codificar las variables categóricas con números para darle una categoría ordinal, utilizando la función label_encoder:"
      ]
    },
    {
      "cell_type": "markdown",
      "metadata": {
        "id": "5epd5A3Yxe5O"
      },
      "source": [
        "## Balanceo de Datos - Random Over Sampling\n",
        "\n",
        "Se construye un dataset alternativo balanceado que opcionalmente pueda utilizarse en el entrenamiento y prueba de los modelos que constituyen las hipótesis. El código propuesto es el siguiente:"
      ]
    },
    {
      "cell_type": "code",
      "execution_count": null,
      "metadata": {},
      "outputs": [],
      "source": [
        "print(categorical_features[:-1])"
      ]
    },
    {
      "cell_type": "code",
      "execution_count": null,
      "metadata": {
        "colab": {
          "base_uri": "https://localhost:8080/"
        },
        "id": "5u4WiJigxe5M",
        "outputId": "ee00cdd7-be62-43e5-f78d-7b55974eb84c"
      },
      "outputs": [],
      "source": [
        "# codificación de variables categóricas\n",
        "label_encoders = {}\n",
        "\n",
        "for cate in categorical_features[:-1]:\n",
        "    le = LE()\n",
        "    df[cate] = le.fit_transform(df[cate])\n",
        "    label_encoders[cate] = dict(zip(le.classes_, le.transform(le.classes_)))\n",
        "\n",
        "for var in categorical_features[:-1]:\n",
        "    print('---------------------------------------------------')\n",
        "    print(f'La Variable: {var} tiene este diccionario de codificación:\\n')\n",
        "    print(label_encoders[var])"
      ]
    },
    {
      "cell_type": "markdown",
      "metadata": {
        "id": "T4PNrt_DjZ0o"
      },
      "source": [
        "Verificamos con el método head para verificar que la codificación de variables categóricas fue exitosa:"
      ]
    },
    {
      "cell_type": "code",
      "execution_count": null,
      "metadata": {
        "colab": {
          "base_uri": "https://localhost:8080/",
          "height": 342
        },
        "id": "Iuss2euNxe5N",
        "outputId": "c78d7b14-e45e-458d-8165-f0c28061446d"
      },
      "outputs": [],
      "source": [
        "df.head()"
      ]
    },
    {
      "cell_type": "code",
      "execution_count": null,
      "metadata": {},
      "outputs": [],
      "source": [
        "df1 = df.copy()"
      ]
    },
    {
      "cell_type": "code",
      "execution_count": null,
      "metadata": {},
      "outputs": [],
      "source": [
        "df1_majority = df1[df1.Churn == \"No\"]\n",
        "df1_minority = df1[df1.Churn == \"Yes\"]\n",
        "\n",
        "churn_distribution = df['Churn'].value_counts()\n",
        "\n",
        "df1_minority_upsampled = resample(df1_minority, \n",
        "                                 replace=True,     # sample with replacement\n",
        "                                 n_samples=churn_distribution[\"No\"],    # to match majority class\n",
        "                                 random_state=123) # reproducible results\n",
        "\n",
        "# Combine majority class with upsampled minority class\n",
        "df1_upsampled = pd.concat([df1_majority, df1_minority_upsampled])\n",
        "\n",
        "# Display new class counts\n",
        "upsampled_churn_distribution = df1_upsampled['Churn'].value_counts()\n"
      ]
    },
    {
      "cell_type": "code",
      "execution_count": null,
      "metadata": {},
      "outputs": [],
      "source": [
        "df1_upsampled.head()"
      ]
    },
    {
      "cell_type": "code",
      "execution_count": null,
      "metadata": {},
      "outputs": [],
      "source": [
        "df1_upsampled['Churn'].value_counts()"
      ]
    },
    {
      "cell_type": "code",
      "execution_count": null,
      "metadata": {},
      "outputs": [],
      "source": [
        "# codificación de variables 'Churn'góricas\n",
        "label_encoders = {}\n",
        "\n",
        "le = LE()\n",
        "df1_upsampled['Churn'] = le.fit_transform(df1_upsampled['Churn'])\n",
        "label_encoders['Churn'] = dict(zip(le.classes_, le.transform(le.classes_)))\n",
        "\n",
        "print('---------------------------------------------------')\n",
        "print(f'La Variable: Churn tiene este diccionario de codificación:\\n')\n",
        "print(label_encoders['Churn'])"
      ]
    },
    {
      "cell_type": "code",
      "execution_count": null,
      "metadata": {},
      "outputs": [],
      "source": [
        "df1_upsampled.head()"
      ]
    },
    {
      "cell_type": "markdown",
      "metadata": {
        "id": "1ItJLuC-xe5O"
      },
      "source": [
        "## Checkpoint del dataset"
      ]
    },
    {
      "cell_type": "code",
      "execution_count": null,
      "metadata": {
        "id": "XvwaQ5yfxe5P"
      },
      "outputs": [],
      "source": [
        "df2 = df1_upsampled.copy()"
      ]
    },
    {
      "cell_type": "code",
      "execution_count": null,
      "metadata": {
        "id": "VRbHfVgoxe5P"
      },
      "outputs": [],
      "source": [
        "df2.head()\n",
        "df2.drop(['customerID'], axis=1, inplace=True)"
      ]
    },
    {
      "cell_type": "markdown",
      "metadata": {},
      "source": [
        "## Normalización bajo el metodo Z-Score"
      ]
    },
    {
      "cell_type": "code",
      "execution_count": null,
      "metadata": {},
      "outputs": [],
      "source": [
        "scaler = StandardScaler()\n",
        "df2[numerical_features] = scaler.fit_transform(df2[numerical_features])\n",
        "df2.head()"
      ]
    },
    {
      "cell_type": "markdown",
      "metadata": {
        "id": "AYqe8cDbxe5P"
      },
      "source": [
        "# Etapa 3: Modelamiento\n",
        "\n",
        "Se procede a elaborar el código de la modelación y la definición de la muestra de entrenamiento:"
      ]
    },
    {
      "cell_type": "code",
      "execution_count": null,
      "metadata": {
        "id": "n04M3AAKxe5P"
      },
      "outputs": [],
      "source": [
        "def split_data(df, target_column, test_size=0.20, random_state=None):\n",
        "    \"\"\"\n",
        "    Divide un DataFrame en conjuntos de entrenamiento y prueba, y devuelve las características y las etiquetas para ambos conjuntos.\n",
        "\n",
        "    Parameters:\n",
        "        df (pd.DataFrame): DataFrame original.\n",
        "        target_column (str): Nombre de la columna objetivo.\n",
        "        test_size (float, optional): Proporción del conjunto de prueba. Por defecto es 0.3.\n",
        "        random_state (int, optional): Semilla aleatoria para reproducibilidad. Por defecto es None.\n",
        "\n",
        "    Returns:\n",
        "        tuple: Cuatro DataFrames: X_train, X_test, y_train, y_test.\n",
        "    \"\"\"\n",
        "    X = df.drop(target_column, axis=1)\n",
        "    y = df[target_column]\n",
        "    X_train, X_test, y_train, y_test = train_test_split(X, y, test_size=test_size, random_state=random_state)\n",
        "    return X_train, X_test, y_train, y_test"
      ]
    },
    {
      "cell_type": "markdown",
      "metadata": {},
      "source": [
        "## Split del dataset\n",
        "80% para el entrenamiento y 20% para la prueba"
      ]
    },
    {
      "cell_type": "code",
      "execution_count": null,
      "metadata": {
        "colab": {
          "base_uri": "https://localhost:8080/"
        },
        "id": "HFQJDFKRxe5Q",
        "outputId": "eda5aa72-64bd-4c94-f509-b9b9e20f14a1"
      },
      "outputs": [],
      "source": [
        "X_train, X_test, y_train, y_test = train_test_split(df2.drop('Churn', axis=1), df2['Churn'], test_size=0.2, random_state=42)\n",
        "print(f\"Tamaño del conjunto de entrenamiento: X_train: {X_train.shape}, y_train: {y_train.shape}\")\n",
        "print(f\"Tamaño del conjunto de prueba: X_test: {X_test.shape}, y_test: {y_test.shape}\")"
      ]
    },
    {
      "cell_type": "markdown",
      "metadata": {
        "id": "aoI5I2wbxe5Q"
      },
      "source": [
        "# Modelos\n",
        "\n",
        "A continuación se definen los parámetros a evaluar en las hipótesis planteadas inicialmente. Los modelos a evaluar para el dataset inicialmente planteado son los siguientes:\n",
        "\n",
        "* Regresión logística\n",
        "* Bosque Aleatorio"
      ]
    },
    {
      "cell_type": "code",
      "execution_count": null,
      "metadata": {
        "id": "Rt1TQP-Vxe5R"
      },
      "outputs": [],
      "source": [
        "param_grid_mod1 = {\n",
        "    'penalty': ['l1','l2'],\n",
        "    'C': [0.1, 1, 10],\n",
        "    'solver': ['liblinear']\n",
        "}\n",
        "\n",
        "param_grid_mod2 = {\n",
        "    'n_estimators': [50, 100, 250],\n",
        "    'max_depth': [10, 20, 30],\n",
        "    'min_samples_split': [2, 5, 10],\n",
        "    'min_samples_leaf': [1, 2, 4]\n",
        "}"
      ]
    },
    {
      "cell_type": "code",
      "execution_count": null,
      "metadata": {
        "id": "hyd8vtbJxe5R"
      },
      "outputs": [],
      "source": [
        "models = {\n",
        "    'LogisticRegression': (LogisticRegression(random_state=42,max_iter=500), param_grid_mod1),\n",
        "    'RandomForestClassifier': (RandomForestClassifier(random_state=42), param_grid_mod2),   \n",
        "}"
      ]
    },
    {
      "cell_type": "markdown",
      "metadata": {
        "id": "x0TDE_nXl50Z"
      },
      "source": [
        "## Busqueda aleatoria de hiperparametros - Grid Search\n",
        "\n",
        "A continuación se establece la búsqueda aleatoria de los hiperparámetros de cada modelo a partir de Grid Search. Se plantea un esquema de validacion con 10 folds, con el objetivo de tener una mejor estimación de los hiperparámetros que mejor se ajustan a los modelos planteados."
      ]
    },
    {
      "cell_type": "code",
      "execution_count": null,
      "metadata": {
        "colab": {
          "base_uri": "https://localhost:8080/",
          "height": 571
        },
        "id": "mqoO7yJPxe5R",
        "outputId": "4ef2998c-964f-4df8-e473-14ec08b9d230"
      },
      "outputs": [],
      "source": [
        "# DataFrame para almacenar los resultados\n",
        "columns = ['Modelo', 'Número de iteraciones', 'Mejor accuracy', 'Tiempo empleado']\n",
        "results_grid = pd.DataFrame(columns=columns)\n",
        "\n",
        "# Realizando la búsqueda en cuadrícula para cada modelo\n",
        "for model_name, (model, param_grid) in tqdm(models.items()):\n",
        "    gs = GridSearchCV(estimator=model,\n",
        "                    param_grid=param_grid,\n",
        "                    scoring='accuracy',\n",
        "                    cv=10,\n",
        "                    n_jobs=-1,\n",
        "                    verbose=2)\n",
        "    print(f\"Realizando Grid Search para el modelo {model_name}...\")\n",
        "    # Medir el tiempo de ejecución\n",
        "    time_start = time.time()\n",
        "    gs.fit(X_train, y_train)\n",
        "    time_grid = time.time() - time_start\n",
        "\n",
        "    values_grid  = [model_name, len(gs.cv_results_['params']), gs.best_score_, time_grid]\n",
        "    result_df    = pd.DataFrame([values_grid], columns=columns)\n",
        "    results_grid = pd.concat([results_grid, result_df], ignore_index=True)\n",
        "    print('El resultado del modelo es: ', gs.best_score_)\n",
        "\n",
        "# Visualizar los resultados\n",
        "print(\"Resultados de Grid Search:\")\n",
        "print(results_grid)"
      ]
    },
    {
      "cell_type": "markdown",
      "metadata": {
        "id": "JdIYuTJBxe5S"
      },
      "source": [
        "## Busqueda aleatoria de hiperparametros - Random Search\n",
        "\n",
        "A continuación se establece la búsqueda aleatoria de los hiperparámetros de cada modelo"
      ]
    },
    {
      "cell_type": "code",
      "execution_count": null,
      "metadata": {
        "colab": {
          "base_uri": "https://localhost:8080/",
          "height": 845
        },
        "id": "UU2JIkLUxe5S",
        "outputId": "f01b9346-e34a-4e26-e185-4e73a9d97b1c"
      },
      "outputs": [],
      "source": [
        "# DataFrame para almacenar los resultados\n",
        "columns = ['Modelo', 'Número de iteraciones', 'Mejor accuracy', 'Tiempo empleado']\n",
        "results_grid = pd.DataFrame(columns=columns)\n",
        "\n",
        "# Realizando la búsqueda aleatoria para cada modelo\n",
        "for model_name, (model, param_grid) in tqdm(models.items()):\n",
        "    rs = RandomizedSearchCV(estimator=model,\n",
        "                            param_distributions=param_grid,\n",
        "                            scoring='f1_weighted',\n",
        "                            cv=10,\n",
        "                            n_jobs=-1,\n",
        "                            verbose=2,\n",
        "                            n_iter=400)\n",
        "    print(f\"Realizando Random Search para el modelo {model_name}...\")\n",
        "    # Medir el tiempo de ejecución\n",
        "    time_start = time.time()\n",
        "    rs.fit(X_train, y_train)\n",
        "    time_grid = time.time() - time_start\n",
        "\n",
        "    # Almacenar los resultados\n",
        "    values_grid  = [model_name, len(rs.cv_results_['params']), rs.best_score_, time_grid]\n",
        "    result_df    = pd.DataFrame([values_grid], columns=columns)\n",
        "    results_grid = pd.concat([results_grid, result_df], ignore_index=True)\n",
        "    print(f'El resultado del modelo {model_name} es: ', rs.best_score_)\n",
        "# Visualizar los resultados\n",
        "print(\"Resultados de Random Search:\")\n",
        "print(results_grid)"
      ]
    },
    {
      "cell_type": "markdown",
      "metadata": {
        "id": "BSrpJfPrmnhE"
      },
      "source": [
        "Los resultados observados son similares que los obtenidos bajo el método de Grid Search."
      ]
    },
    {
      "cell_type": "markdown",
      "metadata": {
        "id": "KZVEFI6exe5S"
      },
      "source": [
        "## Busqueda bayesiana de hiperparametros - Bayes Search"
      ]
    },
    {
      "cell_type": "code",
      "execution_count": null,
      "metadata": {
        "id": "p9i1cpcXxe5T"
      },
      "outputs": [],
      "source": [
        "# Se instala la librería requerida\n",
        "#!pip install scikit-optimize"
      ]
    },
    {
      "cell_type": "code",
      "execution_count": null,
      "metadata": {
        "id": "d6DfbvWuxe5T"
      },
      "outputs": [],
      "source": [
        "from skopt import BayesSearchCV\n",
        "from skopt.space import Real, Categorical, Integer"
      ]
    },
    {
      "cell_type": "code",
      "execution_count": null,
      "metadata": {
        "id": "9Q8GuaDmxe5U"
      },
      "outputs": [],
      "source": [
        "# DataFrame para almacenar los resultados\n",
        "columns = ['Modelo', 'Número de iteraciones', 'Mejor accuracy', 'Tiempo empleado']\n",
        "results_grid = pd.DataFrame(columns=columns)\n",
        "\n",
        "# Realizando la búsqueda aleatoria para cada modelo\n",
        "for model_name, (model, param_grid) in tqdm(models.items()):\n",
        "    bs = BayesSearchCV(estimator=model,\n",
        "                        search_spaces=param_grid,\n",
        "                        scoring='accuracy',\n",
        "                        cv=10,\n",
        "                        n_jobs=-1,\n",
        "                        verbose=2,\n",
        "                        n_iter=50)\n",
        "    print(f\"Realizando Bayes Search para el modelo {model_name}...\")\n",
        "    # Medir el tiempo de ejecución\n",
        "    time_start = time.time()\n",
        "    bs.fit(X_train, y_train)\n",
        "    time_grid = time.time() - time_start\n",
        "\n",
        "    # Almacenar los resultados\n",
        "    values_grid  = [model_name, len(bs.cv_results_['params']), bs.best_score_, time_grid]\n",
        "    result_df    = pd.DataFrame([values_grid], columns=columns)\n",
        "    results_grid = pd.concat([results_grid, result_df], ignore_index=True)\n",
        "    print('El resultado del modelo es: ', bs.best_score_)"
      ]
    },
    {
      "cell_type": "markdown",
      "metadata": {},
      "source": [
        "## Resultados Grid Search"
      ]
    },
    {
      "cell_type": "markdown",
      "metadata": {
        "id": "3wgiDOWxxe5U"
      },
      "source": [
        "| Modelo | Iter | Accuracy Grid Search | Tiempo empleado (s)|\n",
        "|--------|:---------:|:---------:|:---------:|\n",
        "| LogisticRegression     |6|0.767451 |0.765114|\n",
        "| RandomForestClassifier |81|0.895385|144.789281|"
      ]
    },
    {
      "cell_type": "markdown",
      "metadata": {},
      "source": [
        "## Resultados Random Search"
      ]
    },
    {
      "cell_type": "markdown",
      "metadata": {},
      "source": [
        "| Modelo | Iter | Accuracy Random Search | Tiempo empleado (s)|\n",
        "|--------|:---------:|:---------:|:---------:|\n",
        "| LogisticRegression     |6|0.766877|0.904287|\n",
        "| RandomForestClassifier |81|0.895100|143.856445|\n"
      ]
    },
    {
      "cell_type": "markdown",
      "metadata": {},
      "source": [
        "## Resultados Bayes Search"
      ]
    },
    {
      "cell_type": "markdown",
      "metadata": {},
      "source": [
        "| Modelo | Iter | Accuracy Bayes Search | Tiempo empleado (s)|\n",
        "|--------|:---------:|:---------:|:---------:|\n",
        "| LogisticRegression     |-|0.767450|54|\n",
        "| RandomForestClassifier |-|0.89538|184|"
      ]
    },
    {
      "cell_type": "markdown",
      "metadata": {
        "id": "Zd9UXutjmw10"
      },
      "source": [
        "Pendiente"
      ]
    },
    {
      "cell_type": "markdown",
      "metadata": {},
      "source": [
        "## Modelo 1 - Utilización de las métricas de evaluación adecuadas"
      ]
    },
    {
      "cell_type": "code",
      "execution_count": null,
      "metadata": {},
      "outputs": [],
      "source": [
        "param_grid_mod1 = {\n",
        "    'penalty': ['l1','l2'],\n",
        "    'C': [0.1, 1, 10],\n",
        "    'solver': ['liblinear']\n",
        "}\n",
        "models = {\n",
        "    'LogisticRegression': (LogisticRegression(random_state=42,max_iter=500), param_grid_mod1),\n",
        "}\n",
        "\n",
        "# DataFrame para almacenar los resultados\n",
        "columns = ['Modelo', 'Número de iteraciones', 'Mejor accuracy', 'Tiempo empleado']\n",
        "results_grid = pd.DataFrame(columns=columns)\n",
        "\n",
        "# Realizando la búsqueda en cuadrícula para cada modelo\n",
        "for model_name, (model, param_grid) in tqdm(models.items()):\n",
        "    gslr = GridSearchCV(estimator=model,\n",
        "                    param_grid=param_grid,\n",
        "                    scoring='accuracy',\n",
        "                    cv=10,\n",
        "                    n_jobs=-1,\n",
        "                    verbose=2)\n",
        "    print(f\"Realizando Grid Search para el modelo {model_name}...\")\n",
        "    # Medir el tiempo de ejecución\n",
        "    time_start = time.time()\n",
        "    gslr.fit(X_train, y_train)\n",
        "    time_grid = time.time() - time_start\n",
        "\n",
        "    values_grid  = [model_name, len(gslr.cv_results_['params']), gslr.best_score_, time_grid]\n",
        "    result_df    = pd.DataFrame([values_grid], columns=columns)\n",
        "    results_grid = pd.concat([results_grid, result_df], ignore_index=True)\n",
        "    print('El resultado del modelo es: ', gslr.best_score_)\n",
        "\n",
        "# Visualizar los resultados\n",
        "print(\"Resultados de Grid Search:\")\n",
        "print(results_grid)"
      ]
    },
    {
      "cell_type": "code",
      "execution_count": null,
      "metadata": {},
      "outputs": [],
      "source": [
        "print(\"Los parametros de Logistic Regression con GridSearch son: \", gslr.best_params_) "
      ]
    },
    {
      "cell_type": "code",
      "execution_count": null,
      "metadata": {},
      "outputs": [],
      "source": [
        "lr = LogisticRegression(**gslr.best_params_)\n",
        "lr.fit(X_train, y_train)\n",
        "y_pred = lr.predict(X_test)\n",
        "print(classification_report(y_test, y_pred))"
      ]
    },
    {
      "cell_type": "code",
      "execution_count": null,
      "metadata": {},
      "outputs": [],
      "source": [
        "cm = ConfusionMatrix(lr, classes=[0,1])\n",
        "cm.fit(X_train, y_train)\n",
        "cm.score(X_test, y_test)\n",
        "cm.show()"
      ]
    },
    {
      "cell_type": "code",
      "execution_count": null,
      "metadata": {},
      "outputs": [],
      "source": [
        "visualizer = ClassificationReport(lr, support=True)\n",
        "visualizer.fit(X_train, y_train)\n",
        "visualizer.score(X_test, y_test)\n",
        "visualizer.show()"
      ]
    },
    {
      "cell_type": "code",
      "execution_count": null,
      "metadata": {},
      "outputs": [],
      "source": [
        "visualizer = ROCAUC(lr)\n",
        "visualizer.fit(X_train, y_train)\n",
        "visualizer.score(X_test, y_test)\n",
        "visualizer.show()"
      ]
    },
    {
      "cell_type": "markdown",
      "metadata": {},
      "source": [
        "## Modelo 2- Utilización de las métricas de evaluación adecuadas"
      ]
    },
    {
      "cell_type": "code",
      "execution_count": null,
      "metadata": {},
      "outputs": [],
      "source": [
        "# Random Forest\n",
        "print(\"Los parametros de Random Forest con GridSearch son: \", gs.best_params_) \n",
        "print(\"Los parametros de Random Forest con RandomSearch son: \", rs.best_params_)\n",
        "print(\"Los parametros de Random Forest con BayesSearch son: \", bs.best_params_)"
      ]
    },
    {
      "cell_type": "code",
      "execution_count": null,
      "metadata": {},
      "outputs": [],
      "source": [
        "rf = RandomForestClassifier(**gs.best_params_)\n",
        "rf.fit(X_train, y_train)\n",
        "y_pred = rf.predict(X_test)\n",
        "print(classification_report(y_test, y_pred))"
      ]
    },
    {
      "cell_type": "code",
      "execution_count": null,
      "metadata": {},
      "outputs": [],
      "source": [
        "cm = ConfusionMatrix(rf, classes=[0,1])\n",
        "cm.fit(X_train, y_train)\n",
        "cm.score(X_test, y_test)\n",
        "cm.show()"
      ]
    },
    {
      "cell_type": "code",
      "execution_count": null,
      "metadata": {},
      "outputs": [],
      "source": [
        "visualizer = ClassificationReport(rf, support=True)\n",
        "visualizer.fit(X_train, y_train)\n",
        "visualizer.score(X_test, y_test)\n",
        "visualizer.show()"
      ]
    },
    {
      "cell_type": "code",
      "execution_count": null,
      "metadata": {},
      "outputs": [],
      "source": [
        "visualizer = ROCAUC(rf)\n",
        "visualizer.fit(X_train, y_train)\n",
        "visualizer.score(X_test, y_test)\n",
        "visualizer.show()"
      ]
    },
    {
      "cell_type": "markdown",
      "metadata": {
        "id": "YkudWSm_xe5V"
      },
      "source": [
        "## Conclusiones\n",
        "\n",
        "Pendiente"
      ]
    }
  ],
  "metadata": {
    "colab": {
      "provenance": []
    },
    "kernelspec": {
      "display_name": "pycaret3",
      "language": "python",
      "name": "python3"
    },
    "language_info": {
      "codemirror_mode": {
        "name": "ipython",
        "version": 3
      },
      "file_extension": ".py",
      "mimetype": "text/x-python",
      "name": "python",
      "nbconvert_exporter": "python",
      "pygments_lexer": "ipython3",
      "version": "3.11.4"
    }
  },
  "nbformat": 4,
  "nbformat_minor": 0
}
